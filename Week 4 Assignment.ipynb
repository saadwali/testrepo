{
 "cells": [
  {
   "cell_type": "markdown",
   "metadata": {
    "collapsed": true
   },
   "source": [
    "# My Jupyter Notebook on IBM Watson Studio"
   ]
  },
  {
   "cell_type": "markdown",
   "metadata": {},
   "source": [
    "**Saad Joiya**\n",
    "Senior Consultant - ML and AI at Systems Limited"
   ]
  },
  {
   "cell_type": "markdown",
   "metadata": {},
   "source": [
    "*I am interested in data science because i have an interest in root cause analysis of different problems and i love to tell stories by connecting the dots*\n"
   ]
  },
  {
   "cell_type": "markdown",
   "metadata": {},
   "source": [
    "### The code in line 5 is supposed to print a message for the reader"
   ]
  },
  {
   "cell_type": "code",
   "execution_count": 3,
   "metadata": {},
   "outputs": [
    {
     "name": "stdout",
     "output_type": "stream",
     "text": [
      "Whosoever is reading this, I wish that each upcoming day of yours is better than your last one\n"
     ]
    }
   ],
   "source": [
    "print(\"Whosoever is reading this, I wish that each upcoming day of yours is better than your last one\")"
   ]
  },
  {
   "cell_type": "markdown",
   "metadata": {},
   "source": [
    "***\n",
    "\n",
    "`Here is some highlighted text in horizontal line form (2/3 of requirement)`\n",
    "\n",
    "***\n",
    "\n",
    "Here is a link to brighten your day (3/3 of requirement):\n",
    "<a href=\"https://preview.redd.it/axyv4lz39d331.jpg?auto=webp&s=f2f45cafb0a154721293969f667a0d22dd0be736\" target=\"_blank\">this link</a>"
   ]
  },
  {
   "cell_type": "code",
   "execution_count": null,
   "metadata": {},
   "outputs": [],
   "source": []
  }
 ],
 "metadata": {
  "kernelspec": {
   "display_name": "Python 3.9",
   "language": "python",
   "name": "python3"
  },
  "language_info": {
   "codemirror_mode": {
    "name": "ipython",
    "version": 3
   },
   "file_extension": ".py",
   "mimetype": "text/x-python",
   "name": "python",
   "nbconvert_exporter": "python",
   "pygments_lexer": "ipython3",
   "version": "3.9.12"
  }
 },
 "nbformat": 4,
 "nbformat_minor": 1
}
